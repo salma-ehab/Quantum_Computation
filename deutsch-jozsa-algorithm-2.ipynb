{
 "cells": [
  {
   "cell_type": "code",
   "execution_count": 1,
   "metadata": {
    "_cell_guid": "b1076dfc-b9ad-4769-8c92-a6c4dae69d19",
    "_uuid": "8f2839f25d086af736a60e9eeb907d3b93b6e0e5",
    "execution": {
     "iopub.execute_input": "2025-05-19T07:45:05.579172Z",
     "iopub.status.busy": "2025-05-19T07:45:05.578875Z",
     "iopub.status.idle": "2025-05-19T07:45:09.858715Z",
     "shell.execute_reply": "2025-05-19T07:45:09.857237Z",
     "shell.execute_reply.started": "2025-05-19T07:45:05.579148Z"
    },
    "trusted": true
   },
   "outputs": [
    {
     "name": "stdout",
     "output_type": "stream",
     "text": [
      "Requirement already satisfied: qiskit in /usr/local/lib/python3.11/dist-packages (2.0.1)\n",
      "Requirement already satisfied: rustworkx>=0.15.0 in /usr/local/lib/python3.11/dist-packages (from qiskit) (0.16.0)\n",
      "Requirement already satisfied: numpy<3,>=1.17 in /usr/local/lib/python3.11/dist-packages (from qiskit) (1.26.4)\n",
      "Requirement already satisfied: scipy>=1.5 in /usr/local/lib/python3.11/dist-packages (from qiskit) (1.15.2)\n",
      "Requirement already satisfied: sympy>=1.3 in /usr/local/lib/python3.11/dist-packages (from qiskit) (1.13.1)\n",
      "Requirement already satisfied: dill>=0.3 in /usr/local/lib/python3.11/dist-packages (from qiskit) (0.3.8)\n",
      "Requirement already satisfied: python-dateutil>=2.8.0 in /usr/local/lib/python3.11/dist-packages (from qiskit) (2.9.0.post0)\n",
      "Requirement already satisfied: stevedore>=3.0.0 in /usr/local/lib/python3.11/dist-packages (from qiskit) (5.4.1)\n",
      "Requirement already satisfied: typing-extensions in /usr/local/lib/python3.11/dist-packages (from qiskit) (4.13.2)\n",
      "Requirement already satisfied: symengine<0.14,>=0.11 in /usr/local/lib/python3.11/dist-packages (from qiskit) (0.13.0)\n",
      "Requirement already satisfied: mkl_fft in /usr/local/lib/python3.11/dist-packages (from numpy<3,>=1.17->qiskit) (1.3.8)\n",
      "Requirement already satisfied: mkl_random in /usr/local/lib/python3.11/dist-packages (from numpy<3,>=1.17->qiskit) (1.2.4)\n",
      "Requirement already satisfied: mkl_umath in /usr/local/lib/python3.11/dist-packages (from numpy<3,>=1.17->qiskit) (0.1.1)\n",
      "Requirement already satisfied: mkl in /usr/local/lib/python3.11/dist-packages (from numpy<3,>=1.17->qiskit) (2025.1.0)\n",
      "Requirement already satisfied: tbb4py in /usr/local/lib/python3.11/dist-packages (from numpy<3,>=1.17->qiskit) (2022.1.0)\n",
      "Requirement already satisfied: mkl-service in /usr/local/lib/python3.11/dist-packages (from numpy<3,>=1.17->qiskit) (2.4.1)\n",
      "Requirement already satisfied: six>=1.5 in /usr/local/lib/python3.11/dist-packages (from python-dateutil>=2.8.0->qiskit) (1.17.0)\n",
      "Requirement already satisfied: pbr>=2.0.0 in /usr/local/lib/python3.11/dist-packages (from stevedore>=3.0.0->qiskit) (6.1.1)\n",
      "Requirement already satisfied: mpmath<1.4,>=1.1.0 in /usr/local/lib/python3.11/dist-packages (from sympy>=1.3->qiskit) (1.3.0)\n",
      "Requirement already satisfied: setuptools in /usr/local/lib/python3.11/dist-packages (from pbr>=2.0.0->stevedore>=3.0.0->qiskit) (75.2.0)\n",
      "Requirement already satisfied: intel-openmp<2026,>=2024 in /usr/local/lib/python3.11/dist-packages (from mkl->numpy<3,>=1.17->qiskit) (2024.2.0)\n",
      "Requirement already satisfied: tbb==2022.* in /usr/local/lib/python3.11/dist-packages (from mkl->numpy<3,>=1.17->qiskit) (2022.1.0)\n",
      "Requirement already satisfied: tcmlib==1.* in /usr/local/lib/python3.11/dist-packages (from tbb==2022.*->mkl->numpy<3,>=1.17->qiskit) (1.3.0)\n",
      "Requirement already satisfied: intel-cmplr-lib-rt in /usr/local/lib/python3.11/dist-packages (from mkl_umath->numpy<3,>=1.17->qiskit) (2024.2.0)\n",
      "Requirement already satisfied: intel-cmplr-lib-ur==2024.2.0 in /usr/local/lib/python3.11/dist-packages (from intel-openmp<2026,>=2024->mkl->numpy<3,>=1.17->qiskit) (2024.2.0)\n"
     ]
    }
   ],
   "source": [
    "!pip install qiskit"
   ]
  },
  {
   "cell_type": "code",
   "execution_count": 2,
   "metadata": {
    "execution": {
     "iopub.execute_input": "2025-05-19T07:45:09.860645Z",
     "iopub.status.busy": "2025-05-19T07:45:09.860075Z",
     "iopub.status.idle": "2025-05-19T07:45:14.141145Z",
     "shell.execute_reply": "2025-05-19T07:45:14.139887Z",
     "shell.execute_reply.started": "2025-05-19T07:45:09.860586Z"
    },
    "trusted": true
   },
   "outputs": [
    {
     "name": "stdout",
     "output_type": "stream",
     "text": [
      "Requirement already satisfied: qiskit_aer in /usr/local/lib/python3.11/dist-packages (0.17.0)\n",
      "Requirement already satisfied: qiskit>=1.1.0 in /usr/local/lib/python3.11/dist-packages (from qiskit_aer) (2.0.1)\n",
      "Requirement already satisfied: numpy>=1.16.3 in /usr/local/lib/python3.11/dist-packages (from qiskit_aer) (1.26.4)\n",
      "Requirement already satisfied: scipy>=1.0 in /usr/local/lib/python3.11/dist-packages (from qiskit_aer) (1.15.2)\n",
      "Requirement already satisfied: psutil>=5 in /usr/local/lib/python3.11/dist-packages (from qiskit_aer) (7.0.0)\n",
      "Requirement already satisfied: mkl_fft in /usr/local/lib/python3.11/dist-packages (from numpy>=1.16.3->qiskit_aer) (1.3.8)\n",
      "Requirement already satisfied: mkl_random in /usr/local/lib/python3.11/dist-packages (from numpy>=1.16.3->qiskit_aer) (1.2.4)\n",
      "Requirement already satisfied: mkl_umath in /usr/local/lib/python3.11/dist-packages (from numpy>=1.16.3->qiskit_aer) (0.1.1)\n",
      "Requirement already satisfied: mkl in /usr/local/lib/python3.11/dist-packages (from numpy>=1.16.3->qiskit_aer) (2025.1.0)\n",
      "Requirement already satisfied: tbb4py in /usr/local/lib/python3.11/dist-packages (from numpy>=1.16.3->qiskit_aer) (2022.1.0)\n",
      "Requirement already satisfied: mkl-service in /usr/local/lib/python3.11/dist-packages (from numpy>=1.16.3->qiskit_aer) (2.4.1)\n",
      "Requirement already satisfied: rustworkx>=0.15.0 in /usr/local/lib/python3.11/dist-packages (from qiskit>=1.1.0->qiskit_aer) (0.16.0)\n",
      "Requirement already satisfied: sympy>=1.3 in /usr/local/lib/python3.11/dist-packages (from qiskit>=1.1.0->qiskit_aer) (1.13.1)\n",
      "Requirement already satisfied: dill>=0.3 in /usr/local/lib/python3.11/dist-packages (from qiskit>=1.1.0->qiskit_aer) (0.3.8)\n",
      "Requirement already satisfied: python-dateutil>=2.8.0 in /usr/local/lib/python3.11/dist-packages (from qiskit>=1.1.0->qiskit_aer) (2.9.0.post0)\n",
      "Requirement already satisfied: stevedore>=3.0.0 in /usr/local/lib/python3.11/dist-packages (from qiskit>=1.1.0->qiskit_aer) (5.4.1)\n",
      "Requirement already satisfied: typing-extensions in /usr/local/lib/python3.11/dist-packages (from qiskit>=1.1.0->qiskit_aer) (4.13.2)\n",
      "Requirement already satisfied: symengine<0.14,>=0.11 in /usr/local/lib/python3.11/dist-packages (from qiskit>=1.1.0->qiskit_aer) (0.13.0)\n",
      "Requirement already satisfied: six>=1.5 in /usr/local/lib/python3.11/dist-packages (from python-dateutil>=2.8.0->qiskit>=1.1.0->qiskit_aer) (1.17.0)\n",
      "Requirement already satisfied: pbr>=2.0.0 in /usr/local/lib/python3.11/dist-packages (from stevedore>=3.0.0->qiskit>=1.1.0->qiskit_aer) (6.1.1)\n",
      "Requirement already satisfied: mpmath<1.4,>=1.1.0 in /usr/local/lib/python3.11/dist-packages (from sympy>=1.3->qiskit>=1.1.0->qiskit_aer) (1.3.0)\n",
      "Requirement already satisfied: intel-openmp<2026,>=2024 in /usr/local/lib/python3.11/dist-packages (from mkl->numpy>=1.16.3->qiskit_aer) (2024.2.0)\n",
      "Requirement already satisfied: tbb==2022.* in /usr/local/lib/python3.11/dist-packages (from mkl->numpy>=1.16.3->qiskit_aer) (2022.1.0)\n",
      "Requirement already satisfied: tcmlib==1.* in /usr/local/lib/python3.11/dist-packages (from tbb==2022.*->mkl->numpy>=1.16.3->qiskit_aer) (1.3.0)\n",
      "Requirement already satisfied: intel-cmplr-lib-rt in /usr/local/lib/python3.11/dist-packages (from mkl_umath->numpy>=1.16.3->qiskit_aer) (2024.2.0)\n",
      "Requirement already satisfied: intel-cmplr-lib-ur==2024.2.0 in /usr/local/lib/python3.11/dist-packages (from intel-openmp<2026,>=2024->mkl->numpy>=1.16.3->qiskit_aer) (2024.2.0)\n",
      "Requirement already satisfied: setuptools in /usr/local/lib/python3.11/dist-packages (from pbr>=2.0.0->stevedore>=3.0.0->qiskit>=1.1.0->qiskit_aer) (75.2.0)\n"
     ]
    }
   ],
   "source": [
    "!pip install qiskit_aer"
   ]
  },
  {
   "cell_type": "code",
   "execution_count": 3,
   "metadata": {
    "execution": {
     "iopub.execute_input": "2025-05-19T07:45:14.142852Z",
     "iopub.status.busy": "2025-05-19T07:45:14.142534Z",
     "iopub.status.idle": "2025-05-19T07:45:18.130299Z",
     "shell.execute_reply": "2025-05-19T07:45:18.129046Z",
     "shell.execute_reply.started": "2025-05-19T07:45:14.142821Z"
    },
    "trusted": true
   },
   "outputs": [
    {
     "name": "stdout",
     "output_type": "stream",
     "text": [
      "Requirement already satisfied: pylatexenc in /usr/local/lib/python3.11/dist-packages (2.10)\n"
     ]
    }
   ],
   "source": [
    "!pip install pylatexenc"
   ]
  },
  {
   "cell_type": "markdown",
   "metadata": {},
   "source": [
    "# Imports"
   ]
  },
  {
   "cell_type": "code",
   "execution_count": 4,
   "metadata": {
    "execution": {
     "iopub.execute_input": "2025-05-19T07:45:18.134951Z",
     "iopub.status.busy": "2025-05-19T07:45:18.134418Z",
     "iopub.status.idle": "2025-05-19T07:45:18.612594Z",
     "shell.execute_reply": "2025-05-19T07:45:18.611564Z",
     "shell.execute_reply.started": "2025-05-19T07:45:18.134910Z"
    },
    "trusted": true
   },
   "outputs": [],
   "source": [
    "from qiskit import QuantumCircuit\n",
    "from qiskit_aer import Aer\n",
    "from qiskit.visualization import plot_histogram\n",
    "from pylatexenc import *"
   ]
  },
  {
   "cell_type": "markdown",
   "metadata": {},
   "source": [
    "# Define Oracle"
   ]
  },
  {
   "cell_type": "code",
   "execution_count": 5,
   "metadata": {
    "execution": {
     "iopub.execute_input": "2025-05-19T07:45:18.614644Z",
     "iopub.status.busy": "2025-05-19T07:45:18.613793Z",
     "iopub.status.idle": "2025-05-19T07:45:18.621396Z",
     "shell.execute_reply": "2025-05-19T07:45:18.620320Z",
     "shell.execute_reply.started": "2025-05-19T07:45:18.614616Z"
    },
    "trusted": true
   },
   "outputs": [],
   "source": [
    "def deutsch_Josza_oracle(circuit, function_type, n):\n",
    "    \n",
    "    # constant: output always 0\n",
    "    # do nothing\n",
    "    if function_type == 0:  \n",
    "        pass\n",
    "\n",
    "    # constant: output always 1\n",
    "    # flip last qubit\n",
    "    elif function_type == 1:  \n",
    "        circuit.x(n-1)\n",
    "\n",
    "    # balanced\n",
    "    # apply cnot for each qubit in the first n-1 qubit, with the last qubit as the target\n",
    "    elif function_type == 2:\n",
    "        for i in range(n - 1):  \n",
    "            circuit.cx(i, n - 1) \n",
    "\n",
    "    # balanced\n",
    "    elif function_type == 3:\n",
    "        # Apply X gates before CNOTs on all input qubits\n",
    "        for i in range(n - 1):\n",
    "            circuit.x(i)\n",
    "        \n",
    "        # Apply CNOTs from each input qubit to the output qubit\n",
    "        for i in range(n - 1):\n",
    "            circuit.cx(i, n - 1)\n",
    "        \n",
    "        # Apply X gates again after CNOTs on all input qubits\n",
    "        for i in range(n - 1):\n",
    "            circuit.x(i) "
   ]
  },
  {
   "cell_type": "markdown",
   "metadata": {},
   "source": [
    "# Deutsch-Jozsa Algorithm"
   ]
  },
  {
   "cell_type": "code",
   "execution_count": 6,
   "metadata": {
    "execution": {
     "iopub.execute_input": "2025-05-19T07:45:18.622635Z",
     "iopub.status.busy": "2025-05-19T07:45:18.622376Z",
     "iopub.status.idle": "2025-05-19T07:45:18.649477Z",
     "shell.execute_reply": "2025-05-19T07:45:18.648494Z",
     "shell.execute_reply.started": "2025-05-19T07:45:18.622614Z"
    },
    "trusted": true
   },
   "outputs": [],
   "source": [
    "def deutsch_Josza_algorithm(function_type, n):\n",
    "    \n",
    "    # Create circuit with n qubits and n-1 classical bits to measure input qubits\n",
    "    circuit = QuantumCircuit(n, n - 1)\n",
    "\n",
    "    # Initialize output qubit to |1>\n",
    "    circuit.x(n - 1)\n",
    "    circuit.h(n - 1)\n",
    "\n",
    "    # Apply Hadamard gates to input qubits\n",
    "    for i in range(n - 1):\n",
    "        circuit.h(i)\n",
    "\n",
    "    # Apply oracle\n",
    "    deutsch_Josza_oracle(circuit, function_type, n)\n",
    "        \n",
    "    # Apply Hadamard gates to input qubits\n",
    "    for i in range(n - 1):\n",
    "        circuit.h(i)\n",
    "\n",
    "    # Measure input qubits\n",
    "    for i in range(n - 1):\n",
    "        circuit.measure(i, i)\n",
    "\n",
    "    return circuit"
   ]
  },
  {
   "cell_type": "markdown",
   "metadata": {},
   "source": [
    "# Simulation"
   ]
  },
  {
   "cell_type": "code",
   "execution_count": 7,
   "metadata": {
    "execution": {
     "iopub.execute_input": "2025-05-19T07:45:18.650564Z",
     "iopub.status.busy": "2025-05-19T07:45:18.650272Z",
     "iopub.status.idle": "2025-05-19T07:45:19.039425Z",
     "shell.execute_reply": "2025-05-19T07:45:19.038162Z",
     "shell.execute_reply.started": "2025-05-19T07:45:18.650542Z"
    },
    "trusted": true
   },
   "outputs": [
    {
     "name": "stdout",
     "output_type": "stream",
     "text": [
      "\n",
      "Function Type: 3\n",
      "Results: {'111': 1024}\n"
     ]
    },
    {
     "data": {
      "image/png": "[encoded data removed]",
      "text/plain": [
       "<Figure size 640x480 with 1 Axes>"
      ]
     },
     "execution_count": 7,
     "metadata": {},
     "output_type": "execute_result"
    }
   ],
   "source": [
    "function_type = 3\n",
    "n=4\n",
    "\n",
    "# create the quantum circuit\n",
    "qc = deutsch_Josza_algorithm(function_type,n)\n",
    "\n",
    "# simulation\n",
    "simulator = Aer.get_backend('qasm_simulator')\n",
    "result = simulator.run(qc, shots = 1024).result()\n",
    "counts = result.get_counts()\n",
    "fig = qc.draw(output='mpl')\n",
    "fig.savefig(\"deutsch_Josza_circuit\"+str(function_type)+\".png\")\n",
    "\n",
    "# display the results\n",
    "print(\"\\nFunction Type:\", function_type)\n",
    "print(\"Results:\", counts)\n",
    "plot_histogram(counts)"
   ]
  }
 ],
 "metadata": {
  "kaggle": {
   "accelerator": "none",
   "dataSources": [],
   "dockerImageVersionId": 31040,
   "isGpuEnabled": false,
   "isInternetEnabled": true,
   "language": "python",
   "sourceType": "notebook"
  },
  "kernelspec": {
   "display_name": "Python 3",
   "language": "python",
   "name": "python3"
  },
  "language_info": {
   "codemirror_mode": {
    "name": "ipython",
    "version": 3
   },
   "file_extension": ".py",
   "mimetype": "text/x-python",
   "name": "python",
   "nbconvert_exporter": "python",
   "pygments_lexer": "ipython3",
   "version": "3.11.11"
  }
 },
 "nbformat": 4,
 "nbformat_minor": 4
}
